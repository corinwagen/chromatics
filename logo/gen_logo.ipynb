{
 "cells": [
  {
   "cell_type": "code",
   "execution_count": 2,
   "id": "general-victor",
   "metadata": {},
   "outputs": [],
   "source": [
    "import matplotlib.pyplot as plt\n",
    "import matplotlib.patches as patches\n",
    "\n",
    "%matplotlib inline\n",
    "%config InlineBackend.figure_format='retina'"
   ]
  },
  {
   "cell_type": "code",
   "execution_count": 54,
   "id": "equipped-semiconductor",
   "metadata": {},
   "outputs": [
    {
     "data": {
      "image/png": "[encoded data removed]",
      "text/plain": [
       "<Figure size 288x108 with 1 Axes>"
      ]
     },
     "metadata": {
      "image/png": {
       "height": 100,
       "width": 280
      }
     },
     "output_type": "display_data"
    }
   ],
   "source": [
    "f = plt.figure(figsize=(4,1.5))\n",
    "ax = f.gca()\n",
    "\n",
    "fH = 0.55\n",
    "\n",
    "top = (1 - fH) / 2\n",
    "\n",
    "ax.add_patch(\n",
    "    patches.Rectangle((0,0), 1, 1, color=\"lightgrey\")\n",
    ")\n",
    "\n",
    "ax.add_patch(\n",
    "    patches.Rectangle((0.14,top), 0.72, fH, color=\"white\")\n",
    ")\n",
    "\n",
    "ax.add_patch(\n",
    "    patches.Rectangle((0.10,top), 0.02, fH, color=\"red\")\n",
    ")\n",
    "\n",
    "ax.add_patch(\n",
    "    patches.Rectangle((0.12,top), 0.02, fH, color=\"yellow\")\n",
    ")\n",
    "\n",
    "ax.add_patch(\n",
    "    patches.Rectangle((0.86,top), 0.02, fH, color=\"cyan\")\n",
    ")\n",
    "\n",
    "ax.add_patch(\n",
    "    patches.Rectangle((0.88,top), 0.02, fH, color=\"blue\")\n",
    ")\n",
    "\n",
    "ax.set_xticks([])\n",
    "ax.set_yticks([])\n",
    "\n",
    "plt.annotate(\"chromatics\", (0.5, 0.5), ha=\"center\", va=\"center\", fontsize=36, fontfamily=\"helvetica\")\n",
    "\n",
    "ax.spines['top'].set_visible(False)\n",
    "ax.spines['right'].set_visible(False)\n",
    "ax.spines['bottom'].set_visible(False)\n",
    "ax.spines['left'].set_visible(False)\n",
    "\n",
    "plt.tight_layout()\n",
    "plt.savefig(\"logo.png\", dpi=300)\n",
    "plt.show()"
   ]
  }
 ],
 "metadata": {
  "kernelspec": {
   "display_name": "Python 3",
   "language": "python",
   "name": "python3"
  },
  "language_info": {
   "codemirror_mode": {
    "name": "ipython",
    "version": 3
   },
   "file_extension": ".py",
   "mimetype": "text/x-python",
   "name": "python",
   "nbconvert_exporter": "python",
   "pygments_lexer": "ipython3",
   "version": "3.7.10"
  }
 },
 "nbformat": 4,
 "nbformat_minor": 5
}
